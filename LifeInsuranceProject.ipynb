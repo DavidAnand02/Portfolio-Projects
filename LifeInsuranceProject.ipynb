{
  "nbformat": 4,
  "nbformat_minor": 0,
  "metadata": {
    "colab": {
      "provenance": []
    },
    "kernelspec": {
      "name": "python3",
      "display_name": "Python 3"
    },
    "language_info": {
      "name": "python"
    }
  },
  "cells": [
    {
      "cell_type": "code",
      "execution_count": 1,
      "metadata": {
        "id": "5jsCoi1V5LcY"
      },
      "outputs": [],
      "source": [
        "# Required libraries\n",
        "import numpy as np\n",
        "import pandas as pd\n",
        "from sklearn.model_selection import train_test_split, GridSearchCV, cross_val_score\n",
        "from sklearn.ensemble import RandomForestClassifier\n",
        "from sklearn.metrics import accuracy_score, classification_report, roc_auc_score\n",
        "from sklearn.preprocessing import StandardScaler\n",
        "from sklearn.pipeline import Pipeline\n",
        "import shap"
      ]
    },
    {
      "cell_type": "code",
      "source": [],
      "metadata": {
        "id": "p9rzHcdM5L1U"
      },
      "execution_count": null,
      "outputs": []
    },
    {
      "cell_type": "code",
      "source": [
        "# 1. Data Generation (Synthetic Data) - Replace this with actual data loading\n",
        "np.random.seed(0)\n",
        "num_samples = 1000\n",
        "data = pd.DataFrame({\n",
        "    'age': np.random.randint(20, 80, num_samples),\n",
        "    'bmi': np.random.normal(25, 5, num_samples),\n",
        "    'blood_pressure': np.random.normal(120, 10, num_samples),\n",
        "    'smoker': np.random.choice([0, 1], num_samples),\n",
        "    'exercise_freq_per_week': np.random.randint(0, 5, num_samples),\n",
        "    'mortality_risk': np.random.choice([0, 1], num_samples, p=[0.7, 0.3])\n",
        "})\n",
        "\n",
        "# Features and target\n",
        "X = data.drop('mortality_risk', axis=1)\n",
        "y = data['mortality_risk']\n",
        "\n",
        "# 2. Train-test split\n",
        "X_train, X_test, y_train, y_test = train_test_split(X, y, test_size=0.3, random_state=42)"
      ],
      "metadata": {
        "id": "kXUYnaoY5L3h"
      },
      "execution_count": 2,
      "outputs": []
    },
    {
      "cell_type": "code",
      "source": [],
      "metadata": {
        "id": "Z_r2hYtq5UMw"
      },
      "execution_count": null,
      "outputs": []
    },
    {
      "cell_type": "code",
      "source": [],
      "metadata": {
        "id": "pVdYd70w5UOi"
      },
      "execution_count": null,
      "outputs": []
    },
    {
      "cell_type": "code",
      "source": [
        "\n",
        "\n",
        "\n",
        "\n",
        "# 3. Pipeline and Model Selection\n",
        "pipeline = Pipeline([\n",
        "    ('scaler', StandardScaler()),  # Standardizing features\n",
        "    ('classifier', RandomForestClassifier(random_state=42))\n",
        "])\n",
        "\n",
        "# Hyperparameter tuning with GridSearchCV\n",
        "param_grid = {\n",
        "    'classifier__n_estimators': [50, 100, 150],\n",
        "    'classifier__max_depth': [5, 10, 20],\n",
        "    'classifier__min_samples_split': [2, 5, 10]\n",
        "}\n",
        "\n",
        "grid_search = GridSearchCV(pipeline, param_grid, cv=5, scoring='accuracy')\n",
        "grid_search.fit(X_train, y_train)\n",
        "\n",
        "# Best model selection\n",
        "best_model = grid_search.best_estimator_\n",
        "\n",
        "\n"
      ],
      "metadata": {
        "colab": {
          "base_uri": "https://localhost:8080/"
        },
        "id": "7vov9wYm5L5o",
        "outputId": "9b6edb4e-e6e7-474f-edec-be2fde2b0231"
      },
      "execution_count": 3,
      "outputs": [
        {
          "output_type": "stream",
          "name": "stderr",
          "text": [
            "/usr/local/lib/python3.10/dist-packages/numpy/ma/core.py:2820: RuntimeWarning: invalid value encountered in cast\n",
            "  _data = np.array(data, dtype=dtype, copy=copy,\n"
          ]
        }
      ]
    },
    {
      "cell_type": "code",
      "source": [],
      "metadata": {
        "id": "rNAwuwU25L7o"
      },
      "execution_count": null,
      "outputs": []
    },
    {
      "cell_type": "code",
      "source": [
        "# 4. Model Evaluation\n",
        "y_pred = best_model.predict(X_test)\n",
        "accuracy = accuracy_score(y_test, y_pred)\n",
        "roc_auc = roc_auc_score(y_test, best_model.predict_proba(X_test)[:, 1])\n",
        "\n",
        "print(\"Best Model Parameters:\", grid_search.best_params_)\n",
        "print(\"Accuracy:\", accuracy)\n",
        "print(\"ROC AUC Score:\", roc_auc)\n",
        "print(\"Classification Report:\\n\", classification_report(y_test, y_pred))\n",
        "\n",
        "# 5. Model Interpretation with SHAP\n",
        "explainer = shap.TreeExplainer(best_model.named_steps['classifier'])\n",
        "shap_values = explainer.shap_values(X_test)\n",
        "\n",
        "# Check if shap_values is a list (indicating multi-class output)\n",
        "# Use the mean of absolute SHAP values for global feature importance if multiple classes are present\n",
        "if isinstance(shap_values, list):\n",
        "    shap.summary_plot(np.abs(shap_values).mean(axis=0), X_test, feature_names=X_test.columns)\n",
        "else:\n",
        "    shap.summary_plot(shap_values, X_test, feature_names=X_test.columns)\n",
        "\n",
        "\n",
        "\n",
        "# Saving the model for deployment\n",
        "import joblib\n",
        "joblib.dump(best_model, 'mortality_risk_model.pkl')"
      ],
      "metadata": {
        "colab": {
          "base_uri": "https://localhost:8080/",
          "height": 1000
        },
        "id": "qpYaE5Q65L-f",
        "outputId": "a6bfb3e9-f7b2-4c6b-d75d-7447028a78f4"
      },
      "execution_count": 6,
      "outputs": [
        {
          "output_type": "stream",
          "name": "stdout",
          "text": [
            "Best Model Parameters: {'classifier__max_depth': 5, 'classifier__min_samples_split': 5, 'classifier__n_estimators': 100}\n",
            "Accuracy: 0.7066666666666667\n",
            "ROC AUC Score: 0.47341337907375647\n",
            "Classification Report:\n",
            "               precision    recall  f1-score   support\n",
            "\n",
            "           0       0.71      1.00      0.83       212\n",
            "           1       0.00      0.00      0.00        88\n",
            "\n",
            "    accuracy                           0.71       300\n",
            "   macro avg       0.35      0.50      0.41       300\n",
            "weighted avg       0.50      0.71      0.59       300\n",
            "\n"
          ]
        },
        {
          "output_type": "stream",
          "name": "stderr",
          "text": [
            "/usr/local/lib/python3.10/dist-packages/sklearn/metrics/_classification.py:1531: UndefinedMetricWarning: Precision is ill-defined and being set to 0.0 in labels with no predicted samples. Use `zero_division` parameter to control this behavior.\n",
            "  _warn_prf(average, modifier, f\"{metric.capitalize()} is\", len(result))\n",
            "/usr/local/lib/python3.10/dist-packages/sklearn/metrics/_classification.py:1531: UndefinedMetricWarning: Precision is ill-defined and being set to 0.0 in labels with no predicted samples. Use `zero_division` parameter to control this behavior.\n",
            "  _warn_prf(average, modifier, f\"{metric.capitalize()} is\", len(result))\n",
            "/usr/local/lib/python3.10/dist-packages/sklearn/metrics/_classification.py:1531: UndefinedMetricWarning: Precision is ill-defined and being set to 0.0 in labels with no predicted samples. Use `zero_division` parameter to control this behavior.\n",
            "  _warn_prf(average, modifier, f\"{metric.capitalize()} is\", len(result))\n"
          ]
        },
        {
          "output_type": "display_data",
          "data": {
            "text/plain": [
              "<Figure size 1150x660 with 2 Axes>"
            ],
            "image/png": "[encoded data removed]"
          },
          "metadata": {}
        },
        {
          "output_type": "execute_result",
          "data": {
            "text/plain": [
              "['mortality_risk_model.pkl']"
            ]
          },
          "metadata": {},
          "execution_count": 6
        }
      ]
    },
    {
      "cell_type": "code",
      "source": [],
      "metadata": {
        "id": "Ul891K3d5Wgk"
      },
      "execution_count": null,
      "outputs": []
    },
    {
      "cell_type": "code",
      "source": [],
      "metadata": {
        "id": "u-H0zIM35WiK"
      },
      "execution_count": null,
      "outputs": []
    }
  ]
}